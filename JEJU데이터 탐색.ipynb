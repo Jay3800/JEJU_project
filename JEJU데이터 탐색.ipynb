{
 "cells": [
  {
   "cell_type": "code",
   "execution_count": 1,
   "metadata": {},
   "outputs": [],
   "source": [
    "import pandas as pd\n",
    "import numpy as np"
   ]
  },
  {
   "cell_type": "code",
   "execution_count": null,
   "metadata": {},
   "outputs": [],
   "source": [
    "#REG_YYMM : 년월\n",
    "#CARD_SIDO_NM : 카드이용지역_시도 (가맹점 주소 기준)\n",
    "#CARD_CCG_NM : 카드이용지역_시군구 (가맹점 주소 기준)\n",
    "#STD_CLSS_NM : 업종명\n",
    "#HOM_SIDO_NM : 거주지역_시도, (고객 집주소 기준)\n",
    "#HOM_CCG_NM : 거주지역_시군구 (고객 집주소 기준)\n",
    "#AGE : 연령대\n",
    "#SEX_CTGO_CD : 성별 (1: 남성, 2: 여성)\n",
    "#FLC : 가구생애주기 (1: 1인가구, 2: 영유아자녀가구, 3: 중고생자녀가구, 4: 성인자녀가구, 5: 노년가구)\n",
    "#CSTMR_CNT : 이용고객수 (명)\n",
    "#AMT : 이용금액 (원)\n",
    "#CNT : 이용건수 (건)"
   ]
  },
  {
   "cell_type": "code",
   "execution_count": null,
   "metadata": {},
   "outputs": [],
   "source": [
    "#data = pd.read_csv('201901-202003.csv')\n",
    "#data.head()\n",
    "#data.shape"
   ]
  },
  {
   "cell_type": "code",
   "execution_count": null,
   "metadata": {},
   "outputs": [],
   "source": [
    "#data.to_pickle('201901-202003.pkl')"
   ]
  },
  {
   "cell_type": "code",
   "execution_count": 2,
   "metadata": {},
   "outputs": [],
   "source": [
    "data = pd.read_csv('201901-202003.csv')"
   ]
  },
  {
   "cell_type": "code",
   "execution_count": 3,
   "metadata": {},
   "outputs": [],
   "source": [
    "# 날짜 처리\n",
    "def grap_year(data):\n",
    "    data = str(data)\n",
    "    return int(data[:4])\n",
    "\n",
    "def grap_month(data):\n",
    "    data = str(data)\n",
    "    return int(data[4:])"
   ]
  },
  {
   "cell_type": "code",
   "execution_count": 4,
   "metadata": {},
   "outputs": [],
   "source": [
    "data = data.fillna('')\n",
    "data['year'] = data['REG_YYMM'].apply(lambda x: grap_year(x))\n",
    "data['month'] = data['REG_YYMM'].apply(lambda x: grap_month(x))\n",
    "data = data.drop(['REG_YYMM'], axis=1)"
   ]
  },
  {
   "cell_type": "code",
   "execution_count": 5,
   "metadata": {},
   "outputs": [],
   "source": [
    "df = data.copy()"
   ]
  },
  {
   "cell_type": "markdown",
   "metadata": {},
   "source": [
    "# 20년 데이터(4월 포함)"
   ]
  },
  {
   "cell_type": "code",
   "execution_count": 6,
   "metadata": {},
   "outputs": [],
   "source": [
    "data04 = pd.read_csv('202004.csv')"
   ]
  },
  {
   "cell_type": "code",
   "execution_count": 7,
   "metadata": {},
   "outputs": [],
   "source": [
    "data04 = data04.fillna('')\n",
    "data04['year'] = data04['REG_YYMM'].apply(lambda x: grap_year(x))\n",
    "data04['month'] = data04['REG_YYMM'].apply(lambda x: grap_month(x))\n",
    "data04 = data04.drop(['REG_YYMM'], axis=1)"
   ]
  },
  {
   "cell_type": "code",
   "execution_count": 8,
   "metadata": {},
   "outputs": [
    {
     "data": {
      "text/html": [
       "<div>\n",
       "<style scoped>\n",
       "    .dataframe tbody tr th:only-of-type {\n",
       "        vertical-align: middle;\n",
       "    }\n",
       "\n",
       "    .dataframe tbody tr th {\n",
       "        vertical-align: top;\n",
       "    }\n",
       "\n",
       "    .dataframe thead th {\n",
       "        text-align: right;\n",
       "    }\n",
       "</style>\n",
       "<table border=\"1\" class=\"dataframe\">\n",
       "  <thead>\n",
       "    <tr style=\"text-align: right;\">\n",
       "      <th></th>\n",
       "      <th>CARD_SIDO_NM</th>\n",
       "      <th>CARD_CCG_NM</th>\n",
       "      <th>STD_CLSS_NM</th>\n",
       "      <th>HOM_SIDO_NM</th>\n",
       "      <th>HOM_CCG_NM</th>\n",
       "      <th>AGE</th>\n",
       "      <th>SEX_CTGO_CD</th>\n",
       "      <th>FLC</th>\n",
       "      <th>CSTMR_CNT</th>\n",
       "      <th>AMT</th>\n",
       "      <th>CNT</th>\n",
       "      <th>year</th>\n",
       "      <th>month</th>\n",
       "    </tr>\n",
       "  </thead>\n",
       "  <tbody>\n",
       "    <tr>\n",
       "      <th>20425415</th>\n",
       "      <td>강원</td>\n",
       "      <td>강릉시</td>\n",
       "      <td>건강보조식품 소매업</td>\n",
       "      <td>강원</td>\n",
       "      <td>강릉시</td>\n",
       "      <td>20s</td>\n",
       "      <td>2</td>\n",
       "      <td>1</td>\n",
       "      <td>3</td>\n",
       "      <td>345000</td>\n",
       "      <td>3</td>\n",
       "      <td>2020</td>\n",
       "      <td>1</td>\n",
       "    </tr>\n",
       "    <tr>\n",
       "      <th>20425416</th>\n",
       "      <td>강원</td>\n",
       "      <td>강릉시</td>\n",
       "      <td>건강보조식품 소매업</td>\n",
       "      <td>강원</td>\n",
       "      <td>강릉시</td>\n",
       "      <td>30s</td>\n",
       "      <td>1</td>\n",
       "      <td>2</td>\n",
       "      <td>3</td>\n",
       "      <td>1903450</td>\n",
       "      <td>3</td>\n",
       "      <td>2020</td>\n",
       "      <td>1</td>\n",
       "    </tr>\n",
       "    <tr>\n",
       "      <th>20425417</th>\n",
       "      <td>강원</td>\n",
       "      <td>강릉시</td>\n",
       "      <td>건강보조식품 소매업</td>\n",
       "      <td>강원</td>\n",
       "      <td>강릉시</td>\n",
       "      <td>30s</td>\n",
       "      <td>2</td>\n",
       "      <td>2</td>\n",
       "      <td>14</td>\n",
       "      <td>1520500</td>\n",
       "      <td>15</td>\n",
       "      <td>2020</td>\n",
       "      <td>1</td>\n",
       "    </tr>\n",
       "    <tr>\n",
       "      <th>20425418</th>\n",
       "      <td>강원</td>\n",
       "      <td>강릉시</td>\n",
       "      <td>건강보조식품 소매업</td>\n",
       "      <td>강원</td>\n",
       "      <td>강릉시</td>\n",
       "      <td>40s</td>\n",
       "      <td>1</td>\n",
       "      <td>3</td>\n",
       "      <td>9</td>\n",
       "      <td>1239200</td>\n",
       "      <td>9</td>\n",
       "      <td>2020</td>\n",
       "      <td>1</td>\n",
       "    </tr>\n",
       "    <tr>\n",
       "      <th>20425419</th>\n",
       "      <td>강원</td>\n",
       "      <td>강릉시</td>\n",
       "      <td>건강보조식품 소매업</td>\n",
       "      <td>강원</td>\n",
       "      <td>강릉시</td>\n",
       "      <td>40s</td>\n",
       "      <td>1</td>\n",
       "      <td>4</td>\n",
       "      <td>3</td>\n",
       "      <td>606700</td>\n",
       "      <td>4</td>\n",
       "      <td>2020</td>\n",
       "      <td>1</td>\n",
       "    </tr>\n",
       "    <tr>\n",
       "      <th>...</th>\n",
       "      <td>...</td>\n",
       "      <td>...</td>\n",
       "      <td>...</td>\n",
       "      <td>...</td>\n",
       "      <td>...</td>\n",
       "      <td>...</td>\n",
       "      <td>...</td>\n",
       "      <td>...</td>\n",
       "      <td>...</td>\n",
       "      <td>...</td>\n",
       "      <td>...</td>\n",
       "      <td>...</td>\n",
       "      <td>...</td>\n",
       "    </tr>\n",
       "    <tr>\n",
       "      <th>1350317</th>\n",
       "      <td>충북</td>\n",
       "      <td>충주시</td>\n",
       "      <td>휴양콘도 운영업</td>\n",
       "      <td>충북</td>\n",
       "      <td>충주시</td>\n",
       "      <td>20s</td>\n",
       "      <td>1</td>\n",
       "      <td>1</td>\n",
       "      <td>5</td>\n",
       "      <td>77000</td>\n",
       "      <td>5</td>\n",
       "      <td>2020</td>\n",
       "      <td>4</td>\n",
       "    </tr>\n",
       "    <tr>\n",
       "      <th>1350318</th>\n",
       "      <td>충북</td>\n",
       "      <td>충주시</td>\n",
       "      <td>휴양콘도 운영업</td>\n",
       "      <td>충북</td>\n",
       "      <td>충주시</td>\n",
       "      <td>30s</td>\n",
       "      <td>1</td>\n",
       "      <td>2</td>\n",
       "      <td>6</td>\n",
       "      <td>92000</td>\n",
       "      <td>6</td>\n",
       "      <td>2020</td>\n",
       "      <td>4</td>\n",
       "    </tr>\n",
       "    <tr>\n",
       "      <th>1350319</th>\n",
       "      <td>충북</td>\n",
       "      <td>충주시</td>\n",
       "      <td>휴양콘도 운영업</td>\n",
       "      <td>충북</td>\n",
       "      <td>충주시</td>\n",
       "      <td>40s</td>\n",
       "      <td>2</td>\n",
       "      <td>3</td>\n",
       "      <td>5</td>\n",
       "      <td>193000</td>\n",
       "      <td>5</td>\n",
       "      <td>2020</td>\n",
       "      <td>4</td>\n",
       "    </tr>\n",
       "    <tr>\n",
       "      <th>1350320</th>\n",
       "      <td>충북</td>\n",
       "      <td>충주시</td>\n",
       "      <td>휴양콘도 운영업</td>\n",
       "      <td>충북</td>\n",
       "      <td>충주시</td>\n",
       "      <td>50s</td>\n",
       "      <td>1</td>\n",
       "      <td>4</td>\n",
       "      <td>5</td>\n",
       "      <td>86000</td>\n",
       "      <td>7</td>\n",
       "      <td>2020</td>\n",
       "      <td>4</td>\n",
       "    </tr>\n",
       "    <tr>\n",
       "      <th>1350321</th>\n",
       "      <td>충북</td>\n",
       "      <td>충주시</td>\n",
       "      <td>휴양콘도 운영업</td>\n",
       "      <td>충북</td>\n",
       "      <td>충주시</td>\n",
       "      <td>60s</td>\n",
       "      <td>2</td>\n",
       "      <td>5</td>\n",
       "      <td>3</td>\n",
       "      <td>227000</td>\n",
       "      <td>4</td>\n",
       "      <td>2020</td>\n",
       "      <td>4</td>\n",
       "    </tr>\n",
       "  </tbody>\n",
       "</table>\n",
       "<p>5622699 rows × 13 columns</p>\n",
       "</div>"
      ],
      "text/plain": [
       "         CARD_SIDO_NM CARD_CCG_NM STD_CLSS_NM HOM_SIDO_NM HOM_CCG_NM  AGE  \\\n",
       "20425415           강원         강릉시  건강보조식품 소매업          강원        강릉시  20s   \n",
       "20425416           강원         강릉시  건강보조식품 소매업          강원        강릉시  30s   \n",
       "20425417           강원         강릉시  건강보조식품 소매업          강원        강릉시  30s   \n",
       "20425418           강원         강릉시  건강보조식품 소매업          강원        강릉시  40s   \n",
       "20425419           강원         강릉시  건강보조식품 소매업          강원        강릉시  40s   \n",
       "...               ...         ...         ...         ...        ...  ...   \n",
       "1350317            충북         충주시    휴양콘도 운영업          충북        충주시  20s   \n",
       "1350318            충북         충주시    휴양콘도 운영업          충북        충주시  30s   \n",
       "1350319            충북         충주시    휴양콘도 운영업          충북        충주시  40s   \n",
       "1350320            충북         충주시    휴양콘도 운영업          충북        충주시  50s   \n",
       "1350321            충북         충주시    휴양콘도 운영업          충북        충주시  60s   \n",
       "\n",
       "          SEX_CTGO_CD  FLC  CSTMR_CNT      AMT  CNT  year  month  \n",
       "20425415            2    1          3   345000    3  2020      1  \n",
       "20425416            1    2          3  1903450    3  2020      1  \n",
       "20425417            2    2         14  1520500   15  2020      1  \n",
       "20425418            1    3          9  1239200    9  2020      1  \n",
       "20425419            1    4          3   606700    4  2020      1  \n",
       "...               ...  ...        ...      ...  ...   ...    ...  \n",
       "1350317             1    1          5    77000    5  2020      4  \n",
       "1350318             1    2          6    92000    6  2020      4  \n",
       "1350319             2    3          5   193000    5  2020      4  \n",
       "1350320             1    4          5    86000    7  2020      4  \n",
       "1350321             2    5          3   227000    4  2020      4  \n",
       "\n",
       "[5622699 rows x 13 columns]"
      ]
     },
     "execution_count": 8,
     "metadata": {},
     "output_type": "execute_result"
    }
   ],
   "source": [
    "df_2020 = df[df['year']==2020]\n",
    "df_2020 = pd.concat([df_2020,data04], axis=0)\n",
    "df_2020"
   ]
  },
  {
   "cell_type": "markdown",
   "metadata": {},
   "source": [
    "# 데이터셋에서 연도, 월 별 비교"
   ]
  },
  {
   "cell_type": "code",
   "execution_count": null,
   "metadata": {},
   "outputs": [],
   "source": [
    "# 연도, 월 별 '이용금액'과 '이용건수'\n",
    "def month(a, b):\n",
    "    data1 = df[df['year']==a]\n",
    "    c = data1[data1['month']==b]\n",
    "    d = c.groupby(['year','month','STD_CLSS_NM']).agg({'AMT':'sum','CNT':'sum'})\n",
    "    e = d.reset_index()\n",
    "    return e\n",
    "\n",
    "# 전 월 대비 '이용금액'과 '이용건수'의 변동률\n",
    "# AMT_dif, CNT_dif : 전 월 대비 변화량\n",
    "def dif_month(x, y):\n",
    "    z = y['AMT'] - x['AMT']\n",
    "    f = y['CNT'] - x['CNT']\n",
    "    c = pd.DataFrame(z)\n",
    "    b = pd.DataFrame(f)\n",
    "    c = c.rename(columns={'AMT':'AMT_dif'})\n",
    "    b = b.rename(columns={'CNT':'CNT_dif'})\n",
    "    a = x.merge(c, left_index=True, right_index=True,  how='right')\n",
    "    a = a.merge(b, left_index=True, right_index=True,  how='right')\n",
    "    a = a[['year','month','STD_CLSS_NM','AMT','AMT_dif','CNT','CNT_dif']]\n",
    "    return a.sort_values(ascending=False, by='AMT')\n",
    "\n",
    "# 년도 별 '이용금액'과 '이용건수'의 변화량의 차이\n",
    "# AMT_dif, CNT_dif : 전 년도 대비 변화량의 차이\n",
    "def dif_year(x, y):\n",
    "    x = x.drop(['AMT','CNT'], axis=1)\n",
    "    z = y['AMT_dif'] - x['AMT_dif']\n",
    "    f = y['CNT_dif'] - x['CNT_dif']\n",
    "    c = pd.DataFrame(z)\n",
    "    b = pd.DataFrame(f)\n",
    "    x = x.rename(columns={'AMT_dif':'AMT'})\n",
    "    x = x.rename(columns={'CNT_dif':'CNT'})\n",
    "    a = x.merge(c, left_index=True, right_index=True,  how='right')\n",
    "    a = a.merge(b, left_index=True, right_index=True,  how='right')\n",
    "    a = a[['year','month','STD_CLSS_NM','AMT','AMT_dif','CNT','CNT_dif']]\n",
    "    return a.sort_values(ascending=False, by='AMT') "
   ]
  },
  {
   "cell_type": "code",
   "execution_count": null,
   "metadata": {},
   "outputs": [],
   "source": [
    "# 연도, 월 별 '이용금액'과 '이용건수'\n",
    "def month(a, b):\n",
    "    data1 = df[df['year']==a]\n",
    "    c = data1[data1['month']==b]\n",
    "    d = c.groupby(['year','month','STD_CLSS_NM']).agg({'AMT':'sum','CNT':'sum'})\n",
    "    e = d.reset_index()\n",
    "    return e\n",
    "\n",
    "# 전 월 대비 '이용금액'과 '이용건수'의 변동률\n",
    "# AMT_dif, CNT_dif : 전 월 대비 변동률\n",
    "def dif_month(x, y):\n",
    "    def month(x, y):\n",
    "        data1 = df[df['year']==x]\n",
    "        c = data1[data1['month']==y]\n",
    "        d = c.groupby(['year','month','STD_CLSS_NM']).agg({'AMT':'sum','CNT':'sum'})\n",
    "        p = d.reset_index()\n",
    "        return p\n",
    "    i = y-1\n",
    "    e = month(x, y)\n",
    "    o = month(x, i)\n",
    "    c = pd.DataFrame((e['AMT'] - o['AMT'])/o['AMT']*100)\n",
    "    b = pd.DataFrame((e['CNT'] - o['CNT'])/o['CNT']*100)\n",
    "    c = c.rename(columns={'AMT':'AMT_dif'})\n",
    "    b = b.rename(columns={'CNT':'CNT_dif'})\n",
    "    a = e.merge(c, left_index=True, right_index=True,  how='right')\n",
    "    a = a.merge(b, left_index=True, right_index=True,  how='right')\n",
    "    a = a[['year','month','STD_CLSS_NM','AMT','AMT_dif','CNT','CNT_dif']]\n",
    "    return a.sort_values(ascending=False, by='AMT')\n",
    "\n",
    "# 년도 별 '이용금액'과 '이용건수'의 변화량의 차이\n",
    "# AMT_dif, CNT_dif : 전 년도 대비 변화량의 차이\n",
    "def dif_year(x, y):\n",
    "    x = x.drop(['AMT','CNT'], axis=1)\n",
    "    z = y['AMT_dif'] - x['AMT_dif']\n",
    "    f = y['CNT_dif'] - x['CNT_dif']\n",
    "    c = pd.DataFrame(z)\n",
    "    b = pd.DataFrame(f)\n",
    "    x = x.rename(columns={'AMT_dif':'AMT'})\n",
    "    x = x.rename(columns={'CNT_dif':'CNT'})\n",
    "    a = x.merge(c, left_index=True, right_index=True,  how='right')\n",
    "    a = a.merge(b, left_index=True, right_index=True,  how='right')\n",
    "    a = a[['year','month','STD_CLSS_NM','AMT','AMT_dif','CNT','CNT_dif']]\n",
    "    return a.sort_values(ascending=False, by='AMT') "
   ]
  },
  {
   "cell_type": "markdown",
   "metadata": {},
   "source": [
    "# 업종 별 변동률 EDA"
   ]
  },
  {
   "cell_type": "markdown",
   "metadata": {},
   "source": [
    "## q : 2019년"
   ]
  },
  {
   "cell_type": "code",
   "execution_count": null,
   "metadata": {},
   "outputs": [],
   "source": [
    "df_q = df.groupby(['year','month','STD_CLSS_NM']).agg({'AMT':'sum'})\n",
    "df_q = df_q.loc[2019]\n",
    "df_q"
   ]
  },
  {
   "cell_type": "code",
   "execution_count": null,
   "metadata": {},
   "outputs": [],
   "source": [
    "q = pd.DataFrame()\n",
    "for month in range(2, 13):\n",
    "    sample = (df_q.loc[month] - df_q.loc[month-1])/df_q.loc[month-1]*100\n",
    "    sample['date']=month\n",
    "    q = pd.concat([q,sample],axis=0)\n",
    "q"
   ]
  },
  {
   "cell_type": "markdown",
   "metadata": {},
   "source": [
    "## r : 2020년"
   ]
  },
  {
   "cell_type": "code",
   "execution_count": null,
   "metadata": {},
   "outputs": [],
   "source": [
    "df_r = df_2020.groupby(['year','month','STD_CLSS_NM']).agg({'AMT':'sum'})\n",
    "df_r = df_r.loc[2020]\n",
    "df_r"
   ]
  },
  {
   "cell_type": "code",
   "execution_count": null,
   "metadata": {},
   "outputs": [],
   "source": [
    "r = pd.DataFrame()\n",
    "for month in range(2, 5):\n",
    "    sample = (df_r.loc[month] - df_r.loc[month-1])/df_r.loc[month-1]*100\n",
    "    sample['date']=month\n",
    "    r = pd.concat([r,sample],axis=0)\n",
    "r"
   ]
  },
  {
   "cell_type": "markdown",
   "metadata": {},
   "source": [
    "# 시각화"
   ]
  },
  {
   "cell_type": "code",
   "execution_count": null,
   "metadata": {},
   "outputs": [],
   "source": [
    "from fbprophet.plot import plot_plotly, add_changepoints_to_plot\n",
    "import matplotlib.pyplot as plt\n",
    "import plotly.graph_objs as go\n",
    "from plotly.subplots import make_subplots\n",
    "import seaborn as sns"
   ]
  },
  {
   "cell_type": "code",
   "execution_count": null,
   "metadata": {},
   "outputs": [],
   "source": [
    "import warnings\n",
    "warnings.filterwarnings(action='ignore')\n",
    "%matplotlib inline\n",
    "\n",
    "plt.rcParams['font.family'] = 'NanumGothic'"
   ]
  },
  {
   "cell_type": "code",
   "execution_count": null,
   "metadata": {},
   "outputs": [],
   "source": [
    "import matplotlib.font_manager as fm\n",
    "\n",
    "path = 'C:/Windows/Fonts/malgun.ttf'\n",
    "font_name = fm.FontProperties(fname=path, size=50).get_name()\n",
    "\n",
    "plt.rc('font', family=font_name)"
   ]
  },
  {
   "cell_type": "code",
   "execution_count": null,
   "metadata": {},
   "outputs": [],
   "source": [
    "f, axes = plt.subplots(21, 2, figsize=(15, 15))\n",
    "i=0\n",
    "j=0\n",
    "for CLSS in q.index.unique():\n",
    "    w = q.loc[CLSS]\n",
    "    r_w = r.loc[CLSS]\n",
    "    sns.lineplot(x=w.date,y=w.AMT, ax=axes[i, j]).set_title(CLSS)\n",
    "    sns.lineplot(x=r.date, y= r.AMT, ax=axes[i,j]).set_title(CLSS)\n",
    "    i+=1\n",
    "    if i>=21:\n",
    "        i=0\n",
    "        j=1\n",
    "plt.show()"
   ]
  },
  {
   "cell_type": "markdown",
   "metadata": {},
   "source": [
    "# AMT에 MinMax 적용해서 본다"
   ]
  },
  {
   "cell_type": "code",
   "execution_count": null,
   "metadata": {},
   "outputs": [],
   "source": [
    "df = pd.concat([data,data04], axis=0)"
   ]
  },
  {
   "cell_type": "code",
   "execution_count": null,
   "metadata": {},
   "outputs": [],
   "source": [
    "df_g = df.groupby(['REG_YYMM','STD_CLSS_NM']).sum()\n",
    "\n",
    "df_g = df_g[['AMT','CNT']]\n",
    "\n",
    "df_g.reset_index(inplace=True)\n",
    "df_g.set_index('STD_CLSS_NM',inplace=True)\n",
    "\n",
    "df_g['hue'] = df_g['REG_YYMM']\n",
    "df_g['hue'] = df_g['hue'].apply(lambda x : int(str(x)[:4]))\n",
    "\n",
    "\n",
    "f, axes = plt.subplots(21, 2, figsize=(50, 50),sharex=True)\n",
    "i=0\n",
    "j=0\n",
    "for CLSS in df_g.index.unique():\n",
    "    df_s = df_g.loc[CLSS]\n",
    "    df_s['REG_YYMM'] =list(range(1,13)) +[1,2,3,4]\n",
    "    df_s['AMT'] = (df_s['AMT'] - df_s['AMT'].min())/(df_s['AMT'].max() - df_s['AMT'].min())\n",
    "    g = sns.lineplot(x= 'REG_YYMM',y='AMT', style='hue' ,data=df_s, ax=axes[i, j])\n",
    "    g.set_title(CLSS)\n",
    "    g.set_xticks(range(len(df_s)))\n",
    "    i +=1\n",
    "    if i==21:\n",
    "        i=0\n",
    "        j=1\n",
    "\n",
    "\n",
    "f, axes = plt.subplots(21, 2, figsize=(50, 50),sharex=True)\n",
    "i=0\n",
    "j=0\n",
    "for CLSS in df_g.index.unique():\n",
    "    df_s = df_g.loc[CLSS]\n",
    "    df_s['REG_YYMM'] =list(range(1,13)) +[1,2,3,4]\n",
    "    g = sns.lineplot(x= 'REG_YYMM',y='CNT', style='hue' ,data=df_s, ax=axes[i, j])\n",
    "    g.set_title(CLSS)\n",
    "    g.set_xticks(range(len(df_s)))\n",
    "    i +=1\n",
    "    if i==21:\n",
    "        i=0\n",
    "        j=1"
   ]
  },
  {
   "cell_type": "code",
   "execution_count": null,
   "metadata": {},
   "outputs": [],
   "source": []
  },
  {
   "cell_type": "code",
   "execution_count": null,
   "metadata": {},
   "outputs": [],
   "source": []
  },
  {
   "cell_type": "code",
   "execution_count": null,
   "metadata": {},
   "outputs": [],
   "source": []
  },
  {
   "cell_type": "code",
   "execution_count": null,
   "metadata": {
    "scrolled": true
   },
   "outputs": [],
   "source": [
    "a = dif_month(2019, 3)\n",
    "a"
   ]
  },
  {
   "cell_type": "code",
   "execution_count": null,
   "metadata": {},
   "outputs": [],
   "source": [
    "b = dif_month(2020, 3)\n",
    "b"
   ]
  },
  {
   "cell_type": "code",
   "execution_count": null,
   "metadata": {},
   "outputs": [],
   "source": [
    "a[\"dif\"] = b[\"AMT_dif\"] - a[\"AMT_dif\"]\n",
    "a"
   ]
  },
  {
   "cell_type": "markdown",
   "metadata": {},
   "source": [
    "# 19년 4월과 20년 4월의 차이"
   ]
  },
  {
   "cell_type": "code",
   "execution_count": null,
   "metadata": {},
   "outputs": [],
   "source": [
    "a.sort_values('dif')"
   ]
  },
  {
   "cell_type": "code",
   "execution_count": null,
   "metadata": {},
   "outputs": [],
   "source": [
    "b = month(2020,1)\n",
    "c = month(2020,2)"
   ]
  },
  {
   "cell_type": "code",
   "execution_count": null,
   "metadata": {},
   "outputs": [],
   "source": [
    "a_20_2 = month(2020, 2)\n",
    "a_20_3 = month(2020, 3)"
   ]
  },
  {
   "cell_type": "code",
   "execution_count": null,
   "metadata": {},
   "outputs": [],
   "source": [
    "a_19_2 = month(2019, 2)\n",
    "a_19_3 = month(2019, 3)"
   ]
  },
  {
   "cell_type": "code",
   "execution_count": null,
   "metadata": {},
   "outputs": [],
   "source": [
    "# 19년 2월 3월\n",
    "d_19_03 = dif_month(a_19_2, a_19_3)\n",
    "d_19_03"
   ]
  },
  {
   "cell_type": "code",
   "execution_count": null,
   "metadata": {},
   "outputs": [],
   "source": [
    "# 20년 2월 3월\n",
    "d_20_03 = dif_month(a_20_2, a_20_3)\n",
    "d_20_03"
   ]
  },
  {
   "cell_type": "code",
   "execution_count": null,
   "metadata": {},
   "outputs": [],
   "source": [
    "# 월별 차이의 연도별 차이\n",
    "dif_year(d_19_03, d_20_03)"
   ]
  },
  {
   "cell_type": "markdown",
   "metadata": {},
   "source": [
    "# 업종별 변동율 기준으로 군집을 나눈다"
   ]
  },
  {
   "cell_type": "code",
   "execution_count": null,
   "metadata": {},
   "outputs": [],
   "source": [
    "# 군집1 : 영향을 +로 받은 업종\n",
    "# 군집2 : 영향을 -로 받은 업종\n",
    "# 군집3 : 영향을 받지 않은 업종\n",
    "# 군집4 : 사라진 업종\n",
    "k-means 고고"
   ]
  },
  {
   "cell_type": "markdown",
   "metadata": {},
   "source": [
    "# 업종별 상관관계를 본다"
   ]
  },
  {
   "cell_type": "code",
   "execution_count": null,
   "metadata": {},
   "outputs": [],
   "source": [
    "df"
   ]
  },
  {
   "cell_type": "code",
   "execution_count": null,
   "metadata": {},
   "outputs": [],
   "source": [
    "seoul = df[df['CARD_SIDO_NM']=='서울']\n",
    "seoul"
   ]
  },
  {
   "cell_type": "code",
   "execution_count": null,
   "metadata": {},
   "outputs": [],
   "source": [
    "# a = df.groupby('CARD_SIDO_NM')['STD_CLSS_NM'].value_counts().to_frame().reset_index()\n",
    "# Sido_Clss = 지역별 업종 value_counts\n",
    "Sido_Clss = df.groupby('CARD_SIDO_NM')['STD_CLSS_NM'].value_counts().to_frame()\n",
    "Sido_Clss.columns=['STD_CLSS_NM_C']\n",
    "Sido_Clss = Sido_Clss.reset_index()"
   ]
  },
  {
   "cell_type": "code",
   "execution_count": null,
   "metadata": {},
   "outputs": [],
   "source": [
    "Sido_Clss"
   ]
  },
  {
   "cell_type": "code",
   "execution_count": null,
   "metadata": {},
   "outputs": [],
   "source": [
    "서비스업 = Sido_Clss[Sido_Clss['STD_CLSS_NM']=='그외 기타 분류안된 오락관련 서비스업']\n",
    "서비스업"
   ]
  },
  {
   "cell_type": "code",
   "execution_count": null,
   "metadata": {},
   "outputs": [],
   "source": [
    "서울 = Sido_Clss[Sido_Clss['CARD_SIDO_NM']=='서울']\n",
    "서울"
   ]
  },
  {
   "cell_type": "markdown",
   "metadata": {},
   "source": [
    "# 지역별 업종 유무 탐색"
   ]
  },
  {
   "cell_type": "code",
   "execution_count": null,
   "metadata": {},
   "outputs": [],
   "source": [
    "df_g = df.groupby(['year','month','CARD_SIDO_NM','STD_CLSS_NM','HOM_SIDO_NM']).count()\n",
    "CS_04 = df_g.loc[2019,4].reset_index()[['CARD_SIDO_NM','STD_CLSS_NM','HOM_SIDO_NM']]\n",
    "CS4 = set(zip(CS_04['CARD_SIDO_NM'],CS_04['STD_CLSS_NM'],CS_04['HOM_SIDO_NM']))\n",
    "\n",
    "CS_03 = df_g.loc[2020,3].reset_index()[['CARD_SIDO_NM','STD_CLSS_NM','HOM_SIDO_NM']]\n",
    "CS3 = set(zip(CS_03['CARD_SIDO_NM'],CS_03['STD_CLSS_NM'],CS_03['HOM_SIDO_NM']))\n",
    "\n",
    "CS = CS3 & CS4"
   ]
  },
  {
   "cell_type": "code",
   "execution_count": null,
   "metadata": {},
   "outputs": [],
   "source": [
    "temp = []\n",
    "for CARD_SIDO_NM,STD_CLSS_NM,HOM_SIDO_NM in CS3:\n",
    "    for AGE in AGEs:\n",
    "        for SEX_CTGO_CD in SEX_CTGO_CDs:\n",
    "            for FLC in FLCs:\n",
    "                for year in years:\n",
    "                    for month in months:\n",
    "                        temp.append([CARD_SIDO_NM, STD_CLSS_NM, HOM_SIDO_NM, AGE, SEX_CTGO_CD, FLC, year, month])"
   ]
  },
  {
   "cell_type": "markdown",
   "metadata": {},
   "source": [
    "# 지역별로 업종간 차이가 있으므로 업종의 차이를 두어 지역별로 예측 해본다."
   ]
  },
  {
   "cell_type": "code",
   "execution_count": null,
   "metadata": {},
   "outputs": [],
   "source": []
  },
  {
   "cell_type": "markdown",
   "metadata": {},
   "source": [
    "# 시군구 Null 값 있는거는 세종시뿐"
   ]
  },
  {
   "cell_type": "code",
   "execution_count": null,
   "metadata": {},
   "outputs": [],
   "source": [
    "#data[data['CARD_CCG_NM'].isnull()]['CARD_SIDO_NM'].unique()"
   ]
  },
  {
   "cell_type": "code",
   "execution_count": null,
   "metadata": {},
   "outputs": [],
   "source": [
    "df['CARD_CCG_NM']=df['CARD_CCG_NM'].fillna('세종시')"
   ]
  },
  {
   "cell_type": "code",
   "execution_count": null,
   "metadata": {},
   "outputs": [],
   "source": [
    "df.isnull().sum()"
   ]
  },
  {
   "cell_type": "code",
   "execution_count": null,
   "metadata": {},
   "outputs": [],
   "source": [
    "df[df['HOM_CCG_NM'].isnull()].HOM_SIDO_NM.unique()"
   ]
  },
  {
   "cell_type": "code",
   "execution_count": null,
   "metadata": {},
   "outputs": [],
   "source": [
    "df['HOM_CCG_NM']=data['HOM_CCG_NM'].fillna('세종시')"
   ]
  },
  {
   "cell_type": "code",
   "execution_count": null,
   "metadata": {},
   "outputs": [],
   "source": [
    "df.isnull().sum()"
   ]
  },
  {
   "cell_type": "code",
   "execution_count": null,
   "metadata": {},
   "outputs": [],
   "source": [
    "df.info()"
   ]
  },
  {
   "cell_type": "code",
   "execution_count": null,
   "metadata": {},
   "outputs": [],
   "source": [
    "# AGE에 's' 지우기\n",
    "df['AGE']=df['AGE'].apply(lambda x:int(str(x)[:2]))"
   ]
  },
  {
   "cell_type": "code",
   "execution_count": null,
   "metadata": {},
   "outputs": [],
   "source": [
    "df.info()"
   ]
  },
  {
   "cell_type": "code",
   "execution_count": null,
   "metadata": {},
   "outputs": [],
   "source": [
    "#날짜 \n",
    "data['REG_YY']=data['REG_YYMM'].apply(lambda x:int(str(x)[:4]))\n",
    "data['REG_MM']=data['REG_YYMM'].apply(lambda x:int(str(x)[4:]))"
   ]
  },
  {
   "cell_type": "code",
   "execution_count": null,
   "metadata": {},
   "outputs": [],
   "source": [
    "#날짜2\n",
    "#data['REG_YY'] = (data.REG_YYMM / 100).astype(int)\n",
    "#data['REG_MM'] = data.REG_YYMM % 100"
   ]
  },
  {
   "cell_type": "code",
   "execution_count": null,
   "metadata": {},
   "outputs": [],
   "source": [
    "#가설1 : 카드사용지역(시도) = 거주지(현지인) / 카드사용지역(시도) = 거주인(외지인)\n",
    "data['NATURALSI'] = np.where(data['CARD_SIDO_NM']==data['HOM_SIDO_NM'],1,0)"
   ]
  },
  {
   "cell_type": "code",
   "execution_count": null,
   "metadata": {},
   "outputs": [],
   "source": [
    "data.sample(10)"
   ]
  },
  {
   "cell_type": "code",
   "execution_count": null,
   "metadata": {},
   "outputs": [],
   "source": [
    "data['STD_CLSS'] = pd.Categorical(data['STD_CLSS_NM'])"
   ]
  },
  {
   "cell_type": "code",
   "execution_count": null,
   "metadata": {},
   "outputs": [],
   "source": [
    "data['STD_CLSS'] = data['STD_CLSS'].cat.codes"
   ]
  },
  {
   "cell_type": "code",
   "execution_count": null,
   "metadata": {},
   "outputs": [],
   "source": [
    "a = pd.DataFrame(data['STD_CLSS_NM'].drop_duplicates())"
   ]
  },
  {
   "cell_type": "code",
   "execution_count": null,
   "metadata": {},
   "outputs": [],
   "source": [
    "b = pd.DataFrame(data['STD_CLSS'].drop_duplicates())"
   ]
  },
  {
   "cell_type": "code",
   "execution_count": null,
   "metadata": {},
   "outputs": [],
   "source": [
    "yes = a.join(b, how='outer')\n",
    "yes.sort_values(['STD_CLSS'], ascending=True)"
   ]
  },
  {
   "cell_type": "code",
   "execution_count": null,
   "metadata": {},
   "outputs": [],
   "source": [
    "data.info()"
   ]
  },
  {
   "cell_type": "code",
   "execution_count": null,
   "metadata": {},
   "outputs": [],
   "source": [
    "data['CARD_SIDO_NM'].unique()"
   ]
  },
  {
   "cell_type": "code",
   "execution_count": null,
   "metadata": {},
   "outputs": [],
   "source": [
    "import sys\n",
    "\n",
    "mod = sys.modules[__name__]\n",
    "for idx in range(len(data['CARD_SIDO_NM'].unique())) :\n",
    "    setattr(mod, 'card_{}'.format(data['CARD_SIDO_NM'].unique()[idx]), \n",
    "            data[data['CARD_SIDO_NM']==data['CARD_SIDO_NM'].unique()[idx]])"
   ]
  },
  {
   "cell_type": "code",
   "execution_count": null,
   "metadata": {},
   "outputs": [],
   "source": [
    "df = data.copy()"
   ]
  },
  {
   "cell_type": "code",
   "execution_count": null,
   "metadata": {},
   "outputs": [],
   "source": []
  },
  {
   "cell_type": "code",
   "execution_count": null,
   "metadata": {},
   "outputs": [],
   "source": []
  },
  {
   "cell_type": "code",
   "execution_count": null,
   "metadata": {},
   "outputs": [],
   "source": []
  }
 ],
 "metadata": {
  "kernelspec": {
   "display_name": "Python 3",
   "language": "python",
   "name": "python3"
  },
  "language_info": {
   "codemirror_mode": {
    "name": "ipython",
    "version": 3
   },
   "file_extension": ".py",
   "mimetype": "text/x-python",
   "name": "python",
   "nbconvert_exporter": "python",
   "pygments_lexer": "ipython3",
   "version": "3.7.6"
  }
 },
 "nbformat": 4,
 "nbformat_minor": 4
}
